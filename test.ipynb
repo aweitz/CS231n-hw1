{
 "cells": [
  {
   "cell_type": "code",
   "execution_count": 3,
   "metadata": {
    "collapsed": false
   },
   "outputs": [
    {
     "name": "stdout",
     "output_type": "stream",
     "text": [
      "[[ 1.  0.  0.  0.  0.  0.  0.  0.  0.  0.]\n",
      " [ 1.  1.  1.  1.  1.  1.  1.  1.  1.  1.]\n",
      " [ 0.  0.  1.  0.  0.  0.  0.  0.  0.  0.]\n",
      " [ 0.  0.  0.  1.  0.  0.  0.  0.  0.  0.]\n",
      " [ 0.  0.  0.  0.  1.  0.  0.  0.  0.  0.]\n",
      " [ 0.  0.  0.  0.  0.  1.  0.  0.  0.  0.]\n",
      " [ 0.  0.  0.  0.  0.  0.  1.  0.  0.  0.]\n",
      " [ 0.  0.  0.  0.  0.  0.  0.  1.  0.  0.]\n",
      " [ 0.  0.  0.  0.  0.  0.  0.  0.  1.  0.]\n",
      " [ 0.  0.  0.  0.  0.  0.  0.  0.  0.  1.]]\n"
     ]
    }
   ],
   "source": [
    "import numpy as np\n",
    "\n",
    "x = np.eye(10)\n",
    "x[1] = 1\n",
    "print(x)"
   ]
  },
  {
   "cell_type": "code",
   "execution_count": 4,
   "metadata": {
    "collapsed": false
   },
   "outputs": [
    {
     "name": "stdout",
     "output_type": "stream",
     "text": [
      "10.0\n"
     ]
    }
   ],
   "source": [
    "y = np.dot(x[1],x[1].T)\n",
    "print(y)"
   ]
  },
  {
   "cell_type": "code",
   "execution_count": 5,
   "metadata": {
    "collapsed": false
   },
   "outputs": [
    {
     "name": "stdout",
     "output_type": "stream",
     "text": [
      "[ 3  1  2  6  2  9  0 -2  3] 9\n"
     ]
    }
   ],
   "source": [
    "a = np.array([3,1,2,6,2,9,0,-2,3])\n",
    "print a, np.size(a)"
   ]
  },
  {
   "cell_type": "code",
   "execution_count": 6,
   "metadata": {
    "collapsed": false
   },
   "outputs": [
    {
     "name": "stdout",
     "output_type": "stream",
     "text": [
      "[-2  0  1]\n"
     ]
    }
   ],
   "source": [
    "print a[np.argsort(a)[:3]]"
   ]
  },
  {
   "cell_type": "code",
   "execution_count": 7,
   "metadata": {
    "collapsed": false
   },
   "outputs": [
    {
     "data": {
      "text/plain": [
       "array([1, 6])"
      ]
     },
     "execution_count": 7,
     "metadata": {},
     "output_type": "execute_result"
    }
   ],
   "source": [
    "b = np.array([1,3])\n",
    "a[b]"
   ]
  },
  {
   "cell_type": "code",
   "execution_count": 8,
   "metadata": {
    "collapsed": false
   },
   "outputs": [
    {
     "name": "stdout",
     "output_type": "stream",
     "text": [
      "(1, 1)\n",
      "updated winner to 1\n",
      "(8, 1)\n",
      "(2, 2)\n",
      "updated winner to 2\n",
      "(3, 3)\n",
      "updated winner to 3\n",
      "(3, 3)\n",
      "(2, 2)\n",
      "(3, 3)\n"
     ]
    }
   ],
   "source": [
    "closest_y = np.array([1,8,2,3,3,2,3])\n",
    "\n",
    "max_votes = 0\n",
    "winner    = 10 # max label + 1\n",
    "for c in closest_y:\n",
    "    votes = np.sum(c == closest_y)\n",
    "    print(c,votes)\n",
    "    if (votes > max_votes) or (votes == max_votes and c < winner):\n",
    "        winner = c\n",
    "        max_votes = votes\n",
    "        print('updated winner to ' + str(winner))"
   ]
  },
  {
   "cell_type": "code",
   "execution_count": 9,
   "metadata": {
    "collapsed": false,
    "scrolled": true
   },
   "outputs": [
    {
     "name": "stdout",
     "output_type": "stream",
     "text": [
      "(2, 4)\n",
      "(2, 4, 1)\n",
      "(3, 4)\n",
      "(1, 4, 3)\n",
      "\n"
     ]
    },
    {
     "data": {
      "text/plain": [
       "array([[14,  6,  6],\n",
       "       [ 3, 13, 31]])"
      ]
     },
     "execution_count": 9,
     "metadata": {},
     "output_type": "execute_result"
    }
   ],
   "source": [
    "x = np.array([[1,2,3,4],[0,1,0,0]])\n",
    "print(x.shape)\n",
    "\n",
    "xx = x.reshape((2,4,1))\n",
    "print(xx.shape)\n",
    "\n",
    "y = np.array([[1,1,1,1],[2,2,2,2],[3,3,3,3]])\n",
    "print(y.shape)\n",
    "\n",
    "yy = y.T.reshape((1,4,3))\n",
    "print(yy.shape)\n",
    "print\n",
    "\n",
    "np.sum((xx-yy)**2,axis=1)"
   ]
  },
  {
   "cell_type": "code",
   "execution_count": 10,
   "metadata": {
    "collapsed": false
   },
   "outputs": [
    {
     "name": "stdout",
     "output_type": "stream",
     "text": [
      "(2, 1)\n",
      "(1, 3)\n",
      "(2, 3)\n"
     ]
    },
    {
     "data": {
      "text/plain": [
       "array([[14,  6,  6],\n",
       "       [ 3, 13, 31]])"
      ]
     },
     "execution_count": 10,
     "metadata": {},
     "output_type": "execute_result"
    }
   ],
   "source": [
    "A = np.diag(np.dot(x,x.T))\n",
    "B = np.diag(np.dot(y,y.T))\n",
    "C = np.dot(x,y.T)\n",
    "\n",
    "A = A.reshape((2,1))\n",
    "B = B.reshape((1,3))\n",
    "print(np.shape(A))\n",
    "print(np.shape(B))\n",
    "print(np.shape(C))\n",
    "\n",
    "A + B - 2*C"
   ]
  },
  {
   "cell_type": "code",
   "execution_count": 11,
   "metadata": {
    "collapsed": false
   },
   "outputs": [
    {
     "name": "stdout",
     "output_type": "stream",
     "text": [
      "[0 1 2 3 4 5 6 7 8 9]\n",
      "[array([0, 1, 2, 3, 4]), array([5, 6, 7, 8, 9])]\n",
      "<type 'numpy.ndarray'>\n",
      "[[0 1 2 3 4]\n",
      " [5 6 7 8 9]]\n"
     ]
    }
   ],
   "source": [
    "x = np.arange(10)\n",
    "print(x)\n",
    "print(np.array_split(x,2))\n",
    "\n",
    "y = np.array_split(x,2)\n",
    "print(type(y[1]))\n",
    "\n",
    "z = np.array(y)\n",
    "print(z)"
   ]
  },
  {
   "cell_type": "code",
   "execution_count": 12,
   "metadata": {
    "collapsed": false
   },
   "outputs": [
    {
     "name": "stdout",
     "output_type": "stream",
     "text": [
      "0\n",
      "1\n",
      "2\n",
      "3\n",
      "4\n"
     ]
    }
   ],
   "source": [
    "for cnt in range(5):\n",
    "    print(cnt)"
   ]
  },
  {
   "cell_type": "code",
   "execution_count": 13,
   "metadata": {
    "collapsed": false
   },
   "outputs": [
    {
     "name": "stdout",
     "output_type": "stream",
     "text": [
      "0\n",
      "[1 2 3 4]\n",
      "1\n",
      "[0 2 3 4]\n",
      "2\n",
      "[0 1 3 4]\n",
      "3\n",
      "[0 1 2 4]\n",
      "4\n",
      "[0 1 2 3]\n"
     ]
    }
   ],
   "source": [
    "n = 5\n",
    "for i in np.arange(5):\n",
    "    print(i)\n",
    "    print(np.concatenate((np.arange(0,i),np.arange(i+1,n)),axis=0))"
   ]
  },
  {
   "cell_type": "code",
   "execution_count": 14,
   "metadata": {
    "collapsed": false
   },
   "outputs": [
    {
     "name": "stdout",
     "output_type": "stream",
     "text": [
      "[2 3]\n",
      "[-10.  -9.  -8.]\n"
     ]
    }
   ],
   "source": [
    "x = np.array([1,2,3])\n",
    "x.shape\n",
    "print(x[1:])\n",
    "\n",
    "a = np.zeros(3)\n",
    "a\n",
    "for cnt,i in enumerate(range(3)):\n",
    "    a[cnt] = i-10\n",
    "print(a)"
   ]
  },
  {
   "cell_type": "code",
   "execution_count": 15,
   "metadata": {
    "collapsed": false
   },
   "outputs": [
    {
     "name": "stdout",
     "output_type": "stream",
     "text": [
      "[[ 0.  0.  0.]\n",
      " [ 0.  0.  0.]]\n",
      "[[ 1.  1.  1.]\n",
      " [ 0.  1.  0.]]\n"
     ]
    }
   ],
   "source": [
    "A = np.array([[1,2,3],[0,1,0]])\n",
    "B = np.zeros(A.shape)\n",
    "print(B)\n",
    "B[np.nonzero(A)] = 1\n",
    "print(B)"
   ]
  },
  {
   "cell_type": "code",
   "execution_count": 18,
   "metadata": {
    "collapsed": false
   },
   "outputs": [
    {
     "data": {
      "text/plain": [
       "array([ 0.001,  0.01 ,  0.1  ])"
      ]
     },
     "execution_count": 18,
     "metadata": {},
     "output_type": "execute_result"
    }
   ],
   "source": [
    "learningrate = np.logspace(-3,-1,num=3)\n",
    "learningrate"
   ]
  },
  {
   "cell_type": "code",
   "execution_count": null,
   "metadata": {
    "collapsed": true
   },
   "outputs": [],
   "source": []
  }
 ],
 "metadata": {
  "kernelspec": {
   "display_name": "Python 2",
   "language": "python",
   "name": "python2"
  },
  "language_info": {
   "codemirror_mode": {
    "name": "ipython",
    "version": 2
   },
   "file_extension": ".py",
   "mimetype": "text/x-python",
   "name": "python",
   "nbconvert_exporter": "python",
   "pygments_lexer": "ipython2",
   "version": "2.7.12"
  }
 },
 "nbformat": 4,
 "nbformat_minor": 0
}
